{
 "cells": [
  {
   "cell_type": "code",
   "execution_count": 3,
   "metadata": {},
   "outputs": [],
   "source": [
    "# 1.1 Our First Jupyter Cell\n",
    "# Select this cell and execute it by clicking run or using the shortcut, ctrl + enter\n",
    "# This will display the \"Zen of Python,\" describing the philosophy behind python\n",
    "import this"
   ]
  },
  {
   "cell_type": "code",
   "execution_count": 4,
   "metadata": {},
   "outputs": [
    {
     "name": "stdout",
     "output_type": "stream",
     "text": [
      "Hello, my name is Kevin and I am excited about learning python.\n"
     ]
    }
   ],
   "source": [
    "# 1.2 Introduce Yourself\n",
    "# Define the variables greeting, name, and mood, and assign them string-type values\n",
    "# Then, execute this cell to see an introduction message printed to the console\n",
    "greeting = \"Hello\"\n",
    "name = \"Kevin\"\n",
    "mood = \"excited\"\n",
    "\n",
    "print(greeting + \", my name is \" + name + \" and I am \" + mood + \" about learning python.\")"
   ]
  },
  {
   "cell_type": "code",
   "execution_count": 5,
   "metadata": {},
   "outputs": [
    {
     "name": "stdout",
     "output_type": "stream",
     "text": [
      "2.28\n"
     ]
    }
   ],
   "source": [
    "# 1.3 Operators and Updating Variables\n",
    "# Define numeric variables for the month and day of your birthdate to be used whenever requested\n",
    "\n",
    "month = 2\n",
    "# Write a new line of code beneath each comment, always updating the birthdate variable as you do so\n",
    "birthdate = 7\n",
    "# Multiply by the month \n",
    "birthdate = birthdate * month\n",
    "\n",
    "# Subtract 1\n",
    "birthdate = birthdate - 1\n",
    "\n",
    "# Multiply by 13\n",
    "birthdate = birthdate * 13\n",
    "\n",
    "# Add the day of your birth\n",
    "birthdate = birthdate + 28\n",
    "\n",
    "# Add 3\n",
    "birthdate = birthdate + 3\n",
    "\n",
    "# Multiply by 11\n",
    "birthdate = birthdate * 11\n",
    "\n",
    "# Subtract the month of your birth\n",
    "birthdate = birthdate - month\n",
    "\n",
    "# Subtract the day of your birth\n",
    "birthdate = birthdate - 28\n",
    "\n",
    "# Divide by 10\n",
    "birthdate = birthdate/10\n",
    "\n",
    "# Add 11\n",
    "birthdate = birthdate + 11\n",
    "\n",
    "# Divide by 100\n",
    "birthdate = birthdate/100\n",
    "\n",
    "# birthdate should now be a floating point number with the day.month of your birthday\n",
    "print(birthdate)"
   ]
  },
  {
   "cell_type": "code",
   "execution_count": 7,
   "metadata": {},
   "outputs": [
    {
     "name": "stdout",
     "output_type": "stream",
     "text": [
      "The tall king is going to sleep now !\n"
     ]
    }
   ],
   "source": [
    "# 1.4 Python Mad Libs\n",
    "# Create a Mad Libs style game using string concatenation or the \"f-string\" style string interpolation\n",
    "# First, define at least 7 variables with names such as adjective_one or noun_three\n",
    "# Then, plug those variables into a long string that tells a story using those variables\n",
    "adj_1 = \"tall\"\n",
    "noun_1 = \"king\"\n",
    "article_1 = \"The\"\n",
    "preposition_1 = \"is\"\n",
    "adverb_1 = \"going\"\n",
    "preposition_2 = \"to\"\n",
    "adjective_2 = \"sleep\"\n",
    "adverb_2 = \"now\"\n",
    "punctuation = \"!\"\n",
    "space = \" \"\n",
    "\n",
    "sentence = article_1 + space + adj_1 + space + noun_1 + space + preposition_1 + space + \\\n",
    "adverb_1 + space + preposition_2 + space + adjective_2 \\\n",
    "+ space + adverb_2 + space + punctuation\n",
    "\n",
    "print(sentence)"
   ]
  },
  {
   "cell_type": "code",
   "execution_count": null,
   "metadata": {},
   "outputs": [],
   "source": [
    "# 1.5 Code Fast and Break Things\n",
    "# Each of the following lines of code is mistaken in some way\n",
    "# Either they contain errors or don't do what the user would expect them to\n",
    "# Correct each example, and write a comment explaining what went wrong"
   ]
  },
  {
   "cell_type": "code",
   "execution_count": 22,
   "metadata": {},
   "outputs": [
    {
     "name": "stdout",
     "output_type": "stream",
     "text": [
      "abc\n"
     ]
    }
   ],
   "source": [
    "# A.\n",
    "my_variable = \"abc\"\n",
    "print(my_variable)"
   ]
  },
  {
   "cell_type": "code",
   "execution_count": 21,
   "metadata": {},
   "outputs": [
    {
     "name": "stdout",
     "output_type": "stream",
     "text": [
      "10\n"
     ]
    }
   ],
   "source": [
    "# B.\n",
    "# Why didn't it print ten?\n",
    "my_number = 5\n",
    "my_number += 5\n",
    "print(my_number)"
   ]
  },
  {
   "cell_type": "code",
   "execution_count": 20,
   "metadata": {},
   "outputs": [
    {
     "name": "stdout",
     "output_type": "stream",
     "text": [
      "5Hello\n"
     ]
    }
   ],
   "source": [
    "# C.\n",
    "my_num = \"5\"\n",
    "my_string = \"Hello\"\n",
    "print(my_num + my_string)"
   ]
  },
  {
   "cell_type": "code",
   "execution_count": 19,
   "metadata": {},
   "outputs": [
    {
     "name": "stdout",
     "output_type": "stream",
     "text": [
      "30\n"
     ]
    }
   ],
   "source": [
    "# D.\n",
    "# The user expected the result to be 30!\n",
    "my_num1 = 10\n",
    "my_num2 = 20\n",
    "print(my_num1 + my_num2)"
   ]
  },
  {
   "cell_type": "code",
   "execution_count": 17,
   "metadata": {},
   "outputs": [
    {
     "name": "stdout",
     "output_type": "stream",
     "text": [
      "I enjoy python in the morning\n"
     ]
    }
   ],
   "source": [
    "# E.\n",
    "# The user expected the message to read \"I enjoy python in the morning.\"\n",
    "language = \"python\"\n",
    "print(f\"I enjoy \" + language + \" in the morning\")"
   ]
  },
  {
   "cell_type": "code",
   "execution_count": 18,
   "metadata": {},
   "outputs": [
    {
     "name": "stdout",
     "output_type": "stream",
     "text": [
      "There are 2 plums at home for me\n"
     ]
    }
   ],
   "source": [
    "# F.\n",
    "# The user expected the message to read \"There are 2 plums at home for me\"\n",
    "number_of_plums = \"2\"\n",
    "who_plums_are_for = \"me\"\n",
    "print(\"There are \" + number_of_plums + \" plums at home for \" + who_plums_are_for)"
   ]
  },
  {
   "cell_type": "code",
   "execution_count": null,
   "metadata": {},
   "outputs": [],
   "source": [
    "# 1.6 How many ways to print with variables\n",
    "# Programming provides many ways of doing the same thing\n",
    "# We've learned about concatenation and f-string interpolation so far\n",
    "# Below, research and demonstrate four different ways of including variables in a string in python\n",
    "# You don't need to understand exactly how they're working to get them to work!"
   ]
  }
 ],
 "metadata": {
  "kernelspec": {
   "display_name": "default:Python",
   "language": "python",
   "name": "conda-env-default-py"
  },
  "language_info": {
   "codemirror_mode": {
    "name": "ipython",
    "version": 3
   },
   "file_extension": ".py",
   "mimetype": "text/x-python",
   "name": "python",
   "nbconvert_exporter": "python",
   "pygments_lexer": "ipython3",
   "version": "3.9.13"
  }
 },
 "nbformat": 4,
 "nbformat_minor": 4
}
